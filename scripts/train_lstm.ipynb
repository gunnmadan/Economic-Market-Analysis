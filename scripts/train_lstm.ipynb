{
 "cells": [
  {
   "cell_type": "code",
   "execution_count": 1,
   "metadata": {},
   "outputs": [],
   "source": [
    "import pandas as pd \n",
    "import numpy as np \n",
    "import torch\n",
    "import torch.nn as nn\n",
    "from torch.utils.data import DataLoader, Dataset\n",
    "\n",
    "SEQ_LEN = 10\n",
    "BATCH_SIZE = 32\n",
    "EPOCHS = 10\n",
    "LR = 0.001\n",
    "DEVICE = torch.device('cuda' if torch.cuda.is_available() else 'cpu')"
   ]
  },
  {
   "cell_type": "code",
   "execution_count": 4,
   "metadata": {},
   "outputs": [
    {
     "name": "stdout",
     "output_type": "stream",
     "text": [
      "        Price        Close         High          Low         Open  \\\n",
      "0  2018-02-03  9174.910156  9430.750000  8251.629883  8852.120117   \n",
      "1  2018-02-04  8277.009766  9334.870117  8031.220215  9175.700195   \n",
      "2  2018-02-05  6955.270020  8364.839844  6756.680176  8270.540039   \n",
      "3  2018-02-06  7754.000000  7850.700195  6048.259766  7051.750000   \n",
      "4  2018-02-07  7621.299805  8509.110352  7236.790039  7755.490234   \n",
      "\n",
      "         Volume        RSI  MACD_12_26_9  MACDh_12_26_9  MACDs_12_26_9  \\\n",
      "0  7.263790e+09  32.239444  -1510.351215     -57.720049   -1452.631166   \n",
      "1  7.073550e+09  28.425279  -1568.807746     -92.941264   -1475.866482   \n",
      "2  9.285290e+09  23.936093  -1702.166800    -181.040254   -1521.126545   \n",
      "3  1.399980e+10  31.025208  -1723.536125    -161.927664   -1561.608461   \n",
      "4  9.169280e+09  30.516343  -1731.222807    -135.691476   -1595.531330   \n",
      "\n",
      "     BBL_5_2.0    BBM_5_2.0     BBU_5_2.0  BBB_5_2.0  BBP_5_2.0        SMA_20  \\\n",
      "0  8387.273257  9500.719922  10614.166586  23.439206   0.353693  11084.875098   \n",
      "1  7866.419251  9134.861914  10403.304577  27.771469   0.161848  10807.735596   \n",
      "2  6820.668989  8481.695996  10142.723004  39.167332   0.040517  10580.974097   \n",
      "3  6622.956210  8198.387988   9773.819767  38.432721   0.358963  10409.244116   \n",
      "4  6475.126500  7956.497949   9437.869398  37.236771   0.386862  10216.564087   \n",
      "\n",
      "         EMA_20           OBV  \n",
      "0  11286.457835  3.934479e+10  \n",
      "1  10999.843733  3.227124e+10  \n",
      "2  10614.646237  2.298595e+10  \n",
      "3  10342.203738  3.698575e+10  \n",
      "4  10083.070030  2.781647e+10  \n"
     ]
    }
   ],
   "source": [
    "df = pd.read_csv('/Users/g/Desktop/Projects/Machine-Learning/outputs/processed_data/BTC_USD_processed.csv')\n",
    "print(df.head())\n"
   ]
  },
  {
   "cell_type": "code",
   "execution_count": 5,
   "metadata": {},
   "outputs": [],
   "source": [
    "features = [\n",
    "    \"RSI\", \"MACD_12_26_9\", \"MACDs_12_26_9\",\n",
    "    \"BBL_5_2.0\", \"BBM_5_2.0\", \"BBU_5_2.0\",\n",
    "    \"SMA_20\", \"EMA_20\", \"OBV\"\n",
    "]\n",
    "target = 'Target_1d'\n",
    "\n",
    "class TimeSeriesDataset(Dataset):\n",
    "    def __init__(self, df):\n",
    "        self.X = []\n",
    "        self.y = []\n",
    "        for i in range(len(df) - SEQ_LEN):\n",
    "            seq_x = df[features].iloc[i:i+SEQ_LEN].values\n",
    "            seq_y = df[target].iloc[i+SEQ_LEN]\n",
    "            self.X.append(seq_x)\n",
    "            self.y.append(seq_y)\n",
    "\n",
    "    def __len__(self):\n",
    "        return len(self.X)\n",
    "\n",
    "    def __getitem__(self, idx):\n",
    "        return torch.tensor(self.X[idx], dtype=torch.float32), torch.tensor(self.y[idx], dtype=torch.long)\n",
    "        "
   ]
  },
  {
   "cell_type": "code",
   "execution_count": 6,
   "metadata": {},
   "outputs": [],
   "source": [
    "class LSTMModel(nn.Module):\n",
    "    def __init__(self, input_size, hidden_size =64, num_layers=2):\n",
    "        super().__init__()\n",
    "        self.lstm= nn.LSTM(input_size, hidden_size, num_layers, batch_first=True)\n",
    "        self.fc = nn.Linear(hidden_size, 2)\n",
    "\n",
    "    def forward(self, x):\n",
    "        _, (h_n, _) = self.lstm(x)\n",
    "        out = self.fc(h_n[-1])\n",
    "        return out\n",
    "\n",
    "model = LSTMModel(input_size=len(features)).to(DEVICE)\n",
    "criterion = nn.CrossEntropyLoss()\n",
    "optimizer = torch.optim.Adam(model.parameters(), lr=LR)"
   ]
  },
  {
   "cell_type": "code",
   "execution_count": 12,
   "metadata": {},
   "outputs": [],
   "source": [
    "df = pd.read_csv('/Users/g/Desktop/Projects/Machine-Learning/outputs/labeled_data/BTC_USD_processed.csv')\n",
    "df.dropna(subset=features + [target], inplace=True)\n",
    "df = df.reset_index(drop=True)\n",
    "train_size = int(0.8 * len(df))\n",
    "train_df = df[:train_size]\n",
    "val_df = df[train_size:]\n",
    "train_loader = DataLoader(TimeSeriesDataset(train_df), batch_size=BATCH_SIZE, shuffle=True)\n",
    "val_loader = DataLoader(TimeSeriesDataset(val_df), batch_size=BATCH_SIZE)"
   ]
  },
  {
   "cell_type": "code",
   "execution_count": 13,
   "metadata": {},
   "outputs": [
    {
     "name": "stdout",
     "output_type": "stream",
     "text": [
      "Epoch 1/10 | Loss: 0.6889\n",
      "Epoch 2/10 | Loss: 0.6914\n",
      "Epoch 3/10 | Loss: 0.6875\n",
      "Epoch 4/10 | Loss: 0.6939\n",
      "Epoch 5/10 | Loss: 0.6914\n",
      "Epoch 6/10 | Loss: 0.6979\n",
      "Epoch 7/10 | Loss: 0.6961\n",
      "Epoch 8/10 | Loss: 0.6948\n",
      "Epoch 9/10 | Loss: 0.6943\n",
      "Epoch 10/10 | Loss: 0.6796\n"
     ]
    }
   ],
   "source": [
    "for epoch in range(EPOCHS):\n",
    "    model.train()\n",
    "    for X_batch, y_batch in train_loader:\n",
    "        X_batch, y_batch = X_batch.to(DEVICE), y_batch.to(DEVICE)\n",
    "        optimizer.zero_grad()\n",
    "        outputs= model(X_batch)\n",
    "        loss=criterion(outputs, y_batch)\n",
    "        loss.backward()\n",
    "        optimizer.step()\n",
    "    print(f\"Epoch {epoch+1}/{EPOCHS} | Loss: {loss.item():.4f}\")"
   ]
  },
  {
   "cell_type": "code",
   "execution_count": 14,
   "metadata": {},
   "outputs": [
    {
     "name": "stdout",
     "output_type": "stream",
     "text": [
      "\n",
      " LSTM Accuracy (BTC/USD, 1-Day): 0.5212\n"
     ]
    }
   ],
   "source": [
    "model.eval()\n",
    "all_preds, all_targets = [], []\n",
    "\n",
    "with torch.no_grad():\n",
    "    for X_batch, y_batch in val_loader:\n",
    "        X_batch = X_batch.to(DEVICE)\n",
    "        preds = model(X_batch).argmax(dim=1).cpu().numpy()\n",
    "        all_preds.extend(preds)\n",
    "        all_targets.extend(y_batch.numpy())\n",
    "\n",
    "acc = np.mean(np.array(all_preds) == np.array(all_targets))\n",
    "print(f\"\\n LSTM Accuracy (BTC/USD, 1-Day): {acc:.4f}\")"
   ]
  }
 ],
 "metadata": {
  "kernelspec": {
   "display_name": "Python 3",
   "language": "python",
   "name": "python3"
  },
  "language_info": {
   "codemirror_mode": {
    "name": "ipython",
    "version": 3
   },
   "file_extension": ".py",
   "mimetype": "text/x-python",
   "name": "python",
   "nbconvert_exporter": "python",
   "pygments_lexer": "ipython3",
   "version": "3.12.1"
  }
 },
 "nbformat": 4,
 "nbformat_minor": 2
}
